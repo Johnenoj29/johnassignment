{
 "cells": [
  {
   "cell_type": "code",
   "execution_count": 3,
   "id": "349aa13c",
   "metadata": {},
   "outputs": [],
   "source": [
    "# import dependecies \n",
    "import os\n",
    "import pandas as pd\n",
    "from sqlalchemy import create_engine\n",
    "from sqlalchemy import inspect\n",
    "import datetime\n",
    "\n",
    "#Config should contain database username as username and database password as password\n",
    "import config"
   ]
  },
  {
   "cell_type": "code",
   "execution_count": 4,
   "id": "e012ec71",
   "metadata": {},
   "outputs": [],
   "source": [
    "# connect to SQL database \n",
    "\n",
    "protocol = 'postgresql'\n",
    "username = config.username\n",
    "password = config.password\n",
    "host = 'localhost'\n",
    "port = 5432\n",
    "database_name = config.database_name\n",
    "rds_connection_string = f'{protocol}://{username}:{password}@{host}:{port}/{database_name}'\n",
    "engine = create_engine(rds_connection_string)\n",
    "insp = inspect(engine)\n",
    "conn = engine.connect()"
   ]
  },
  {
   "cell_type": "code",
   "execution_count": 5,
   "id": "9e0d9562",
   "metadata": {},
   "outputs": [
    {
     "data": {
      "text/html": [
       "<div>\n",
       "<style scoped>\n",
       "    .dataframe tbody tr th:only-of-type {\n",
       "        vertical-align: middle;\n",
       "    }\n",
       "\n",
       "    .dataframe tbody tr th {\n",
       "        vertical-align: top;\n",
       "    }\n",
       "\n",
       "    .dataframe thead th {\n",
       "        text-align: right;\n",
       "    }\n",
       "</style>\n",
       "<table border=\"1\" class=\"dataframe\">\n",
       "  <thead>\n",
       "    <tr style=\"text-align: right;\">\n",
       "      <th></th>\n",
       "      <th>WMO_NUM</th>\n",
       "      <th>station_number</th>\n",
       "      <th>station_name</th>\n",
       "      <th>LATITUDE</th>\n",
       "      <th>LONGITUDE</th>\n",
       "      <th>STN_HT</th>\n",
       "      <th>AVIATION_ID</th>\n",
       "      <th>REGION</th>\n",
       "      <th>GridPt Lat</th>\n",
       "      <th>GridPt Lon</th>\n",
       "      <th>MSAS elevation</th>\n",
       "      <th>Distance from GridPt</th>\n",
       "      <th>Roughness</th>\n",
       "      <th>Distance from coast</th>\n",
       "      <th>Category</th>\n",
       "      <th>forecast_district</th>\n",
       "      <th>sa_special</th>\n",
       "    </tr>\n",
       "  </thead>\n",
       "  <tbody>\n",
       "    <tr>\n",
       "      <th>0</th>\n",
       "      <td>94648</td>\n",
       "      <td>23000</td>\n",
       "      <td>ADELAIDE (WEST TERRACE / NGAYIRDAPIRA)</td>\n",
       "      <td>-34.9257</td>\n",
       "      <td>138.5832</td>\n",
       "      <td>29.32</td>\n",
       "      <td>ADWT</td>\n",
       "      <td>SA</td>\n",
       "      <td>NaN</td>\n",
       "      <td>NaN</td>\n",
       "      <td>NaN</td>\n",
       "      <td>NaN</td>\n",
       "      <td>NaN</td>\n",
       "      <td>NaN</td>\n",
       "      <td>coast</td>\n",
       "      <td>SA_PW001</td>\n",
       "      <td>sag</td>\n",
       "    </tr>\n",
       "    <tr>\n",
       "      <th>1</th>\n",
       "      <td>94489</td>\n",
       "      <td>38076</td>\n",
       "      <td>WINDORAH AP</td>\n",
       "      <td>-25.4117</td>\n",
       "      <td>142.6647</td>\n",
       "      <td>132.16</td>\n",
       "      <td>YWDH</td>\n",
       "      <td>QLD</td>\n",
       "      <td>NaN</td>\n",
       "      <td>NaN</td>\n",
       "      <td>NaN</td>\n",
       "      <td>NaN</td>\n",
       "      <td>NaN</td>\n",
       "      <td>NaN</td>\n",
       "      <td>flat_inland</td>\n",
       "      <td>QLD_PW011</td>\n",
       "      <td>NaN</td>\n",
       "    </tr>\n",
       "    <tr>\n",
       "      <th>2</th>\n",
       "      <td>94795</td>\n",
       "      <td>9281</td>\n",
       "      <td>MILLENDON (SWAN VALLEY)</td>\n",
       "      <td>-31.8108</td>\n",
       "      <td>116.0225</td>\n",
       "      <td>16.00</td>\n",
       "      <td>SWVA</td>\n",
       "      <td>WA</td>\n",
       "      <td>NaN</td>\n",
       "      <td>NaN</td>\n",
       "      <td>NaN</td>\n",
       "      <td>NaN</td>\n",
       "      <td>NaN</td>\n",
       "      <td>NaN</td>\n",
       "      <td>mountains2</td>\n",
       "      <td>WA_PW009</td>\n",
       "      <td>NaN</td>\n",
       "    </tr>\n",
       "    <tr>\n",
       "      <th>3</th>\n",
       "      <td>99218</td>\n",
       "      <td>32194</td>\n",
       "      <td>COWLEY BEACH</td>\n",
       "      <td>-17.6904</td>\n",
       "      <td>146.1126</td>\n",
       "      <td>17.00</td>\n",
       "      <td>CBTA</td>\n",
       "      <td>QLD</td>\n",
       "      <td>NaN</td>\n",
       "      <td>NaN</td>\n",
       "      <td>NaN</td>\n",
       "      <td>NaN</td>\n",
       "      <td>NaN</td>\n",
       "      <td>NaN</td>\n",
       "      <td>coast</td>\n",
       "      <td>QLD_PW004</td>\n",
       "      <td>NaN</td>\n",
       "    </tr>\n",
       "    <tr>\n",
       "      <th>4</th>\n",
       "      <td>94794</td>\n",
       "      <td>51164</td>\n",
       "      <td>GIRILAMBONE (OKEH)</td>\n",
       "      <td>-31.0822</td>\n",
       "      <td>146.9294</td>\n",
       "      <td>178.00</td>\n",
       "      <td>NDR2</td>\n",
       "      <td>NSW</td>\n",
       "      <td>NaN</td>\n",
       "      <td>NaN</td>\n",
       "      <td>NaN</td>\n",
       "      <td>NaN</td>\n",
       "      <td>NaN</td>\n",
       "      <td>NaN</td>\n",
       "      <td>flat_inland</td>\n",
       "      <td>NSW_PW012</td>\n",
       "      <td>NaN</td>\n",
       "    </tr>\n",
       "  </tbody>\n",
       "</table>\n",
       "</div>"
      ],
      "text/plain": [
       "   WMO_NUM  station_number                            station_name  LATITUDE  \\\n",
       "0    94648           23000  ADELAIDE (WEST TERRACE / NGAYIRDAPIRA)  -34.9257   \n",
       "1    94489           38076                             WINDORAH AP  -25.4117   \n",
       "2    94795            9281                 MILLENDON (SWAN VALLEY)  -31.8108   \n",
       "3    99218           32194                            COWLEY BEACH  -17.6904   \n",
       "4    94794           51164                      GIRILAMBONE (OKEH)  -31.0822   \n",
       "\n",
       "   LONGITUDE  STN_HT AVIATION_ID REGION  GridPt Lat  GridPt Lon  \\\n",
       "0   138.5832   29.32        ADWT     SA         NaN         NaN   \n",
       "1   142.6647  132.16        YWDH    QLD         NaN         NaN   \n",
       "2   116.0225   16.00        SWVA     WA         NaN         NaN   \n",
       "3   146.1126   17.00        CBTA    QLD         NaN         NaN   \n",
       "4   146.9294  178.00        NDR2    NSW         NaN         NaN   \n",
       "\n",
       "   MSAS elevation  Distance from GridPt  Roughness  Distance from coast  \\\n",
       "0             NaN                   NaN        NaN                  NaN   \n",
       "1             NaN                   NaN        NaN                  NaN   \n",
       "2             NaN                   NaN        NaN                  NaN   \n",
       "3             NaN                   NaN        NaN                  NaN   \n",
       "4             NaN                   NaN        NaN                  NaN   \n",
       "\n",
       "      Category forecast_district sa_special  \n",
       "0        coast          SA_PW001        sag  \n",
       "1  flat_inland         QLD_PW011        NaN  \n",
       "2   mountains2          WA_PW009        NaN  \n",
       "3        coast         QLD_PW004        NaN  \n",
       "4  flat_inland         NSW_PW012        NaN  "
      ]
     },
     "execution_count": 5,
     "metadata": {},
     "output_type": "execute_result"
    }
   ],
   "source": [
    "#Fetch station data\n",
    "stationData = pd.read_csv(\"./Resources/stationData.csv\")\n",
    "stationData.head()"
   ]
  },
  {
   "cell_type": "code",
   "execution_count": 6,
   "id": "6c3d204e",
   "metadata": {},
   "outputs": [
    {
     "data": {
      "text/plain": [
       "575"
      ]
     },
     "execution_count": 6,
     "metadata": {},
     "output_type": "execute_result"
    }
   ],
   "source": [
    "#Make sure to match schema\n",
    "stationData_sql = pd.DataFrame()\n",
    "stationData_sql[\"station_number\"] = stationData[\"station_number\"]\n",
    "stationData_sql[\"station_name\"] = stationData[\"station_name\"]\n",
    "stationData_sql[\"lat\"] = stationData[\"LATITUDE\"]\n",
    "stationData_sql[\"lon\"] = stationData[\"LONGITUDE\"]\n",
    "stationData_sql[\"height\"] = stationData[\"STN_HT\"]\n",
    "stationData_sql[\"region\"] = stationData[\"REGION\"]\n",
    "stationData_sql.to_sql(\"station_data\", conn,if_exists='append',index=False)\n",
    "\n"
   ]
  },
  {
   "cell_type": "code",
   "execution_count": 7,
   "id": "9022d829",
   "metadata": {},
   "outputs": [
    {
     "name": "stdout",
     "output_type": "stream",
     "text": [
      "['Op_Official_0000_20160501.csv', 'Op_Official_0000_20160601.csv', 'Op_Official_0000_20160701.csv', 'Op_Official_0000_20160801.csv', 'Op_Official_0000_20160901.csv', 'Op_Official_0000_20161001.csv', 'Op_Official_0000_20161101.csv', 'Op_Official_0000_20161201.csv', 'Op_Official_0000_20170101.csv', 'Op_Official_0000_20170201.csv', 'Op_Official_0000_20170301.csv', 'Op_Official_0000_20170401.csv']\n"
     ]
    }
   ],
   "source": [
    "#Get file list for fcst and obs tables\n",
    "fcst_files = os.listdir(\"./Resources/fcst\")\n",
    "print(fcst_files)\n",
    "fcst_data = pd.DataFrame()\n",
    "for file in fcst_files:\n",
    "    date = datetime.datetime.strptime(file[-12:-4],\"%Y%m%d\")\n",
    "    tempdf = pd.read_csv(\"./Resources/fcst/\" + file)\n",
    "    first_seconds = tempdf[\"base_time\"][0]\n",
    "    tempdf_sql = pd.DataFrame()\n",
    "    tempdf_sql[\"station_number\"] = tempdf[\"station_number\"]\n",
    "    tempdf_sql[\"area_code\"] = tempdf[\"area_code\"]\n",
    "    tempdf_sql[\"valid_start\"]  = (tempdf[\"valid_start\"] - first_seconds)/(60*60)\n",
    "    tempdf_sql[\"valid_end\"]  = (tempdf[\"valid_end\"] - first_seconds)/(60*60)\n",
    "    tempdf_sql[\"temperature\"]  = (tempdf[\"valid_end\"] - first_seconds)/(60*60)\n",
    "    tempdf_sql[\"date\"] = date\n",
    "    tempdf_sql.to_sql(\"fcst\",conn,if_exists='append',index=False)"
   ]
  },
  {
   "cell_type": "code",
   "execution_count": 8,
   "id": "024e578a",
   "metadata": {},
   "outputs": [
    {
     "name": "stdout",
     "output_type": "stream",
     "text": [
      "['Op_Official_0000_20160501.csv', 'Op_Official_0000_20160601.csv', 'Op_Official_0000_20160701.csv', 'Op_Official_0000_20160801.csv', 'Op_Official_0000_20160901.csv', 'Op_Official_0000_20161001.csv', 'Op_Official_0000_20161101.csv', 'Op_Official_0000_20161201.csv', 'Op_Official_0000_20170101.csv', 'Op_Official_0000_20170201.csv', 'Op_Official_0000_20170301.csv', 'Op_Official_0000_20170401.csv']\n"
     ]
    }
   ],
   "source": [
    "#Get file list for fcst and obs tables\n",
    "obs_files = os.listdir(\"./Resources/obs\")\n",
    "print(fcst_files)\n",
    "fcst_data = pd.DataFrame()\n",
    "for file in obs_files:\n",
    "    date = datetime.datetime.strptime(file[-12:-4],\"%Y%m%d\")\n",
    "    tempdf = pd.read_csv(\"./Resources/obs/\" + file)\n",
    "    first_seconds = tempdf[\"valid_start\"][0]\n",
    "    tempdf_sql = pd.DataFrame()\n",
    "    tempdf_sql[\"station_number\"] = tempdf[\"station_number\"]\n",
    "    tempdf_sql[\"area_code\"] = tempdf[\"area_code\"]\n",
    "    tempdf_sql[\"valid_start\"]  = (tempdf[\"valid_start\"] - first_seconds)/(60*60)\n",
    "    tempdf_sql[\"valid_end\"]  = (tempdf[\"valid_end\"] - first_seconds)/(60*60)\n",
    "    tempdf_sql[\"temperature\"]  = (tempdf[\"valid_end\"] - first_seconds)/(60*60)\n",
    "    tempdf_sql[\"date\"] = date\n",
    "    tempdf_sql.to_sql(\"obs\",conn,if_exists='append',index=False)"
   ]
  },
  {
   "cell_type": "code",
   "execution_count": null,
   "id": "c4458f5f",
   "metadata": {},
   "outputs": [],
   "source": []
  }
 ],
 "metadata": {
  "kernelspec": {
   "display_name": "Python 3 (ipykernel)",
   "language": "python",
   "name": "python3"
  },
  "language_info": {
   "codemirror_mode": {
    "name": "ipython",
    "version": 3
   },
   "file_extension": ".py",
   "mimetype": "text/x-python",
   "name": "python",
   "nbconvert_exporter": "python",
   "pygments_lexer": "ipython3",
   "version": "3.7.7"
  },
  "vscode": {
   "interpreter": {
    "hash": "382b7b08f03c8308525da1febad1c0b6741b60f4688973ffa3ee99141efe4314"
   }
  }
 },
 "nbformat": 4,
 "nbformat_minor": 5
}
